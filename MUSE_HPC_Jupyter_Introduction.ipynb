{
 "cells": [
  {
   "cell_type": "markdown",
   "metadata": {},
   "source": [
    "<H2><center> MUSE HPC Python 3 Jupyter Notebook Introduction </center></H2>\n",
    "<H3><center> June 18, 2019 </center></H3>"
   ]
  },
  {
   "cell_type": "markdown",
   "metadata": {},
   "source": [
    "Learning Objectives:\n",
    "\n",
    "<ol>\n",
    "    <li>Understand that Python has some built-in functionality, but other functions can be imported using libraries</li>\n",
    "    <li>Import libraries of functions into the notebook.</li>\n",
    "    <li>Create a markup cell to add readable chunks of text, equations, images to the notebook.</li>\n",
    "    <li>Read in data from an input file and manipulate the data in notebook.</li>\n",
    "    <li>Use a for loop to iterate over a variable.</li>\n",
    "    <li>Print output to a file.</li>\n",
    "    <li>Submit a job to the scheduler from within the notebook.</li>\n",
    "    <li>Create a graph and modify its properties (e.g., title, axes, labels, etc.)</li>\n",
    "    <li>Add errors bars to a graph</li>\n",
    "    <li>Save a graph image to an output file</li>\n",
    "</ol>"
   ]
  },
  {
   "cell_type": "markdown",
   "metadata": {},
   "source": [
    "## Learning Objectives 1, 2, 3"
   ]
  },
  {
   "cell_type": "markdown",
   "metadata": {},
   "source": [
    "<H3> Importing libraries </H3>\n",
    "\n",
    "When you start a new notebook, you will often need to import python libraries that have special functions built into them to do work for you. For example, the numpy library has a number of mathematical functions built into it, various matrix operations, etc. The matplotlib library has a large amount of plotting functionality built into it. As previously mentioned, if you want to know if \"it\" can be done in python, Google searches can help point you towards sample snippets of code and also special libraries that you might want to import for performing certain tasks."
   ]
  },
  {
   "cell_type": "markdown",
   "metadata": {},
   "source": [
    "Before we import some python libraries, let's see what happens if we try to perform a few mathematical computations below.\n",
    "\n",
    "<h4> To evaluate a cell press shift+enter in that cell</h4>"
   ]
  },
  {
   "cell_type": "code",
   "execution_count": null,
   "metadata": {},
   "outputs": [],
   "source": [
    "2*2"
   ]
  },
  {
   "cell_type": "code",
   "execution_count": null,
   "metadata": {},
   "outputs": [],
   "source": [
    "2+2"
   ]
  },
  {
   "cell_type": "code",
   "execution_count": null,
   "metadata": {},
   "outputs": [],
   "source": [
    "2-2"
   ]
  },
  {
   "cell_type": "code",
   "execution_count": null,
   "metadata": {},
   "outputs": [],
   "source": [
    "2/2"
   ]
  },
  {
   "cell_type": "code",
   "execution_count": null,
   "metadata": {},
   "outputs": [],
   "source": [
    "sin(3.14/2)"
   ]
  },
  {
   "cell_type": "markdown",
   "metadata": {},
   "source": [
    "Q. What happened?"
   ]
  },
  {
   "cell_type": "markdown",
   "metadata": {},
   "source": [
    "Now let's try importing the python libraries below. The use of the word 'as' defines aliases for the use of the commands that belong to the numpy and matplotlib.pyplot libraries."
   ]
  },
  {
   "cell_type": "code",
   "execution_count": null,
   "metadata": {},
   "outputs": [],
   "source": [
    "import numpy as np\n",
    "import matplotlib.pyplot as plt"
   ]
  },
  {
   "cell_type": "markdown",
   "metadata": {},
   "source": [
    "Now try and calculate the sin(3.14/2) again. Do this in the cell below."
   ]
  },
  {
   "cell_type": "code",
   "execution_count": null,
   "metadata": {},
   "outputs": [],
   "source": []
  },
  {
   "cell_type": "markdown",
   "metadata": {},
   "source": [
    "Q. Did it work? Let's discuss."
   ]
  },
  {
   "cell_type": "markdown",
   "metadata": {},
   "source": [
    "Go to the following website which has a list of other mathematical functions that are built into numpy. Choose three functions and see how they work. Try them out in new cells just below.\n",
    "\n",
    "https://docs.scipy.org/doc/numpy-1.13.0/reference/routines.math.html"
   ]
  },
  {
   "cell_type": "code",
   "execution_count": null,
   "metadata": {},
   "outputs": [],
   "source": []
  },
  {
   "cell_type": "markdown",
   "metadata": {},
   "source": [
    "<H1>Now</H1>\n",
    "<H2>You're</H2>\n",
    "<h3>Going</H3>\n",
    "<H4>To Make</h4>\n",
    "<H5>Your own Markup Cell</h5>"
   ]
  },
  {
   "cell_type": "markdown",
   "metadata": {},
   "source": [
    "# You\n",
    "## Can\n",
    "### Also\n",
    "#### Make headers\n",
    "##### Like this!"
   ]
  },
  {
   "cell_type": "markdown",
   "metadata": {},
   "source": [
    "You can **create** lists more *easily* than the HTML tagging above as well:\n",
    "\n",
    "- This\n",
    "- is\n",
    "- a list\n",
    "- of things\n",
    " - And this is\n",
    " - A sublist\n",
    " - Of things\n",
    " \n",
    "Here are a couple of examples of a cheatsheet of jupyter notebook markdown: \n",
    "- https://medium.com/ibm-data-science-experience/markdown-for-jupyter-notebooks-cheatsheet-386c05aeebed\n",
    "- https://www.tutorialspoint.com/jupyter/jupyter_notebook_markdown_cells.htm\n",
    "\n",
    "Here is an example of creating a table:\n",
    "\n",
    "|Header1|Header2|Header3|\n",
    "|-------|-------|-------|\n",
    "|Entry 1|Entry 2|Entry 3|\n",
    "|Test 1|Test 2|Test 3|\n",
    "|Try 1| Try 2| Try 3|\n",
    "\n",
    "\n"
   ]
  },
  {
   "cell_type": "markdown",
   "metadata": {},
   "source": [
    "# And you can create equations using LaTeX\n",
    "### We'll not go into the details of LaTeX equations here, but there are lots of great resources online.\n",
    "## $e^{i\\pi} + 1 = 0$\n",
    "## $$e^x=\\sum_{i=0}^\\infty \\frac{1}{i!}x^i$$\n",
    "## $$x^n + y^n = z^n$$"
   ]
  },
  {
   "cell_type": "markdown",
   "metadata": {},
   "source": [
    "### And you can also add images!\n",
    "\n",
    "<img src=\"wuttke1.jpg\">"
   ]
  },
  {
   "cell_type": "markdown",
   "metadata": {},
   "source": [
    "Take a look at the markup cells above in this notebook by double-clicking on a markup cell to see the underlying design. Create a cell below that has a large centered header, some centered subtext, a short paragraph of text, a numbered list, and a simple equation. Then, find an image (jpeg, tiff, etc.) on the internet. Download it, and then upload the image into the directory you are currently working in. Add the image and a table to your jupyter notebook also."
   ]
  },
  {
   "cell_type": "markdown",
   "metadata": {},
   "source": []
  },
  {
   "cell_type": "markdown",
   "metadata": {},
   "source": [
    "## Learning Objectives 4, 5"
   ]
  },
  {
   "cell_type": "markdown",
   "metadata": {},
   "source": [
    "Now we'll learn how to read data in from a text file using numpy, and to manipulate the data a bit in this notebook. Part of this section will introduce you to for loops which can be used to iterate tasks."
   ]
  },
  {
   "cell_type": "code",
   "execution_count": null,
   "metadata": {},
   "outputs": [],
   "source": [
    "#to load a file use the command below. This is a comment!\n",
    "data1 = np.loadtxt('data.txt')"
   ]
  },
  {
   "cell_type": "code",
   "execution_count": null,
   "metadata": {},
   "outputs": [],
   "source": [
    "#let's see what the contents of data1 are\n",
    "data1"
   ]
  },
  {
   "cell_type": "code",
   "execution_count": null,
   "metadata": {},
   "outputs": [],
   "source": [
    "#Here is how we can print just the first row of data1\n",
    "data1[0]"
   ]
  },
  {
   "cell_type": "markdown",
   "metadata": {},
   "source": [
    "How do you think you'd print out just the second row of data1?"
   ]
  },
  {
   "cell_type": "code",
   "execution_count": null,
   "metadata": {},
   "outputs": [],
   "source": []
  },
  {
   "cell_type": "markdown",
   "metadata": {},
   "source": [
    "How can we print out the last row of data1?"
   ]
  },
  {
   "cell_type": "code",
   "execution_count": null,
   "metadata": {},
   "outputs": [],
   "source": []
  },
  {
   "cell_type": "markdown",
   "metadata": {},
   "source": [
    "What happens if you try to print out something beyond the last row of data1?"
   ]
  },
  {
   "cell_type": "code",
   "execution_count": null,
   "metadata": {},
   "outputs": [],
   "source": []
  },
  {
   "cell_type": "code",
   "execution_count": null,
   "metadata": {},
   "outputs": [],
   "source": [
    "#Here is how we can print just the first column of data1\n",
    "data1[:,0]"
   ]
  },
  {
   "cell_type": "markdown",
   "metadata": {},
   "source": [
    "How do you think you'd print out the second column of data1?"
   ]
  },
  {
   "cell_type": "code",
   "execution_count": null,
   "metadata": {},
   "outputs": [],
   "source": []
  },
  {
   "cell_type": "markdown",
   "metadata": {},
   "source": [
    "How can we print out the last column of data?"
   ]
  },
  {
   "cell_type": "code",
   "execution_count": null,
   "metadata": {},
   "outputs": [],
   "source": []
  },
  {
   "cell_type": "markdown",
   "metadata": {},
   "source": [
    "What happens if you try to print out something beyond the last column of data?"
   ]
  },
  {
   "cell_type": "code",
   "execution_count": null,
   "metadata": {},
   "outputs": [],
   "source": []
  },
  {
   "cell_type": "code",
   "execution_count": null,
   "metadata": {},
   "outputs": [],
   "source": [
    "#Here is how we can print out the 0,0 element of the array of data\n",
    "data1[0,0]"
   ]
  },
  {
   "cell_type": "markdown",
   "metadata": {},
   "source": [
    "Try printing out a few additional array elements of data1 below."
   ]
  },
  {
   "cell_type": "code",
   "execution_count": null,
   "metadata": {},
   "outputs": [],
   "source": []
  },
  {
   "cell_type": "markdown",
   "metadata": {},
   "source": [
    "Try performing some mathematical operations with data1. For example, try adding data1+data1, try subtracting it from itself, try dividing, try multiplying, and try taking the sin of data1. What do you observe in each case? Do your observations make sense?"
   ]
  },
  {
   "cell_type": "code",
   "execution_count": null,
   "metadata": {},
   "outputs": [],
   "source": []
  },
  {
   "cell_type": "code",
   "execution_count": null,
   "metadata": {},
   "outputs": [],
   "source": [
    "#Now we'll introduce the for loop in python. For loops are convenient to use when you want to iterate over some commands multiple times.\n",
    "for i in range(1,5):\n",
    "    print(i)"
   ]
  },
  {
   "cell_type": "markdown",
   "metadata": {},
   "source": [
    "What printed out above? Can you figure out how to change the range variable to get the numbers 1,2,3,4 and 5 to print?"
   ]
  },
  {
   "cell_type": "code",
   "execution_count": null,
   "metadata": {},
   "outputs": [],
   "source": [
    "#We can perform multiple operations inside a for loop\n",
    "for i in range(1,11):\n",
    "    print(i)\n",
    "    print(\"Hello\")"
   ]
  },
  {
   "cell_type": "code",
   "execution_count": null,
   "metadata": {},
   "outputs": [],
   "source": [
    "#We can combine multiple comma-separated pieces of text, variables, into the print statement\n",
    "for i in range(1,11):\n",
    "    print(i,\"Hello\",i,\"there\")"
   ]
  },
  {
   "cell_type": "code",
   "execution_count": null,
   "metadata": {},
   "outputs": [],
   "source": [
    "#This isn't formatted so nicely, so we can use the \\t character to introduce tabs, for example\n",
    "for i in range(1,11):\n",
    "    print(i,\"\\tHello\\t\",i,\"\\tthere\")"
   ]
  },
  {
   "cell_type": "code",
   "execution_count": null,
   "metadata": {},
   "outputs": [],
   "source": [
    "#We can perform mathematical operations inside of the for loop as well\n",
    "for i in range(1,11):\n",
    "    a=2*i\n",
    "    print(i,\"\\t\",a)"
   ]
  },
  {
   "cell_type": "markdown",
   "metadata": {},
   "source": [
    "Try creating a for loop that performs other mathematical operations. Experiment with the for loop structure to get a feel for how it works."
   ]
  },
  {
   "cell_type": "code",
   "execution_count": null,
   "metadata": {},
   "outputs": [],
   "source": []
  },
  {
   "cell_type": "markdown",
   "metadata": {},
   "source": [
    "Let's say that we want to print every element of the first row of the data1 variable using a for loop. Based on what we did above, can you come up with a script that would do this?"
   ]
  },
  {
   "cell_type": "code",
   "execution_count": null,
   "metadata": {},
   "outputs": [],
   "source": []
  },
  {
   "cell_type": "markdown",
   "metadata": {},
   "source": [
    "Can you come up with a script that would print every element of the first column of the data1 variable using a for loop?"
   ]
  },
  {
   "cell_type": "code",
   "execution_count": null,
   "metadata": {},
   "outputs": [],
   "source": []
  },
  {
   "cell_type": "markdown",
   "metadata": {},
   "source": [
    "Can you come up with a script that will print every element in the data1 variable using a for loop?"
   ]
  },
  {
   "cell_type": "code",
   "execution_count": null,
   "metadata": {},
   "outputs": [],
   "source": []
  },
  {
   "cell_type": "code",
   "execution_count": null,
   "metadata": {},
   "outputs": [],
   "source": [
    "#Let's create a list of numbers\n",
    "list1=[1,3,6,5,3,4,7]\n",
    "\n",
    "#And let's use a for loop to print every item in this list, without using the range function explicitly\n",
    "for thing in list1:\n",
    "    print(thing)"
   ]
  },
  {
   "cell_type": "markdown",
   "metadata": {},
   "source": [
    "Can you use this form of the for loop to print every number in the first column of the data1 variable?"
   ]
  },
  {
   "cell_type": "code",
   "execution_count": null,
   "metadata": {},
   "outputs": [],
   "source": []
  },
  {
   "cell_type": "markdown",
   "metadata": {},
   "source": [
    "Can you use this form of the for loop to print every number in the first row of the data1 variable?"
   ]
  },
  {
   "cell_type": "code",
   "execution_count": null,
   "metadata": {},
   "outputs": [],
   "source": []
  },
  {
   "cell_type": "markdown",
   "metadata": {},
   "source": [
    "Can you use this form of the for loop to print every row of the data1 variable?"
   ]
  },
  {
   "cell_type": "code",
   "execution_count": null,
   "metadata": {},
   "outputs": [],
   "source": []
  },
  {
   "cell_type": "markdown",
   "metadata": {},
   "source": [
    "Note that the for loop is just one type of loop, there is also the while loop:\n",
    "\n",
    "https://www.python-course.eu/python3_loops.php\n",
    "\n",
    "Another type of flow control in scripts can be performed using if else statements:\n",
    "\n",
    "https://www.tutorialspoint.com/python3/python_if_else.htm\n",
    "\n",
    "There are very good examples of how to use these on the internet!"
   ]
  },
  {
   "cell_type": "markdown",
   "metadata": {},
   "source": [
    "## Learning Objectives 6, 7"
   ]
  },
  {
   "cell_type": "markdown",
   "metadata": {},
   "source": [
    "In this section we'll see how to print output into a file, and how to use the notebook to submit jobs to the scheduler."
   ]
  },
  {
   "cell_type": "code",
   "execution_count": null,
   "metadata": {},
   "outputs": [],
   "source": [
    "#One method for file printing is as follows\n",
    "\n",
    "print(\"\"\"\n",
    "\n",
    "Test\n",
    "This\n",
    "Here\n",
    "\n",
    "\"\"\",file=open(\"job.1.sh\",\"w\"))"
   ]
  },
  {
   "cell_type": "markdown",
   "metadata": {},
   "source": [
    "Take a look at this file in your directory. What are its contents?"
   ]
  },
  {
   "cell_type": "code",
   "execution_count": null,
   "metadata": {},
   "outputs": [],
   "source": [
    "#Now let's print a scheduler submission script into the file instead\n",
    "print(\"\"\"#!/bin/bash\n",
    "#SBATCH -D ./\n",
    "#SBATCH --mail-user=nobody@tcnj.edu\n",
    "#SBATCH --mail-type=FAIL\n",
    "#SBATCH --account=science\n",
    "#SBATCH --job-name=test\n",
    "#SBATCH --ntasks=1\n",
    "#SBATCH --nodes=1\n",
    "#SBATCH --partition=normal\n",
    "\n",
    "hostname\n",
    "which mpirun\n",
    "echo $PATH\n",
    "echo $LD_LIBRARY_PATH\n",
    "echo '------------------------------------------------------------------------'\n",
    "echo \"Starting @ `date`\"\n",
    "ls > ls.1.out\n",
    "echo \"Finished @ `date`\"\n",
    "\n",
    "\n",
    "\"\"\",file=open(\"job.1.sh\",\"w\"))"
   ]
  },
  {
   "cell_type": "code",
   "execution_count": null,
   "metadata": {},
   "outputs": [],
   "source": [
    "#The ! in front of the command lets you run a bash command\n",
    "!sbatch job.1.sh"
   ]
  },
  {
   "cell_type": "code",
   "execution_count": null,
   "metadata": {},
   "outputs": [],
   "source": [
    "#Now let's print a scheduler submission script into multiple files using a for loop\n",
    "\n",
    "for i in range(1,6):\n",
    "    filename=\"job.\"+str(i)+\".sh\"\n",
    "    print(\"\"\"#!/bin/bash\n",
    "#SBATCH -D ./\n",
    "#SBATCH --mail-user=nobody@tcnj.edu\n",
    "#SBATCH --mail-type=FAIL\n",
    "#SBATCH --account=science\n",
    "#SBATCH --job-name=test\n",
    "#SBATCH --ntasks=1\n",
    "#SBATCH --nodes=1\n",
    "#SBATCH --partition=normal\n",
    "\n",
    "hostname\n",
    "which mpirun\n",
    "echo $PATH\n",
    "echo $LD_LIBRARY_PATH\n",
    "echo '------------------------------------------------------------------------'\n",
    "echo \"Starting @ `date`\"\n",
    "ls > out.%d.txt\n",
    "echo \"Finished @ `date`\"\n",
    "\n",
    "\n",
    "\"\"\" %(i),file=open(filename,\"w\"))"
   ]
  },
  {
   "cell_type": "code",
   "execution_count": null,
   "metadata": {},
   "outputs": [],
   "source": [
    "#We are going to import a new set of libraries called the os libraries and use the os.system function to submit all of the job scripts we just created\n",
    "import os\n",
    "for i in range(1,6):\n",
    "    os.system(\"sbatch job.%s.sh\" %(i))"
   ]
  },
  {
   "cell_type": "markdown",
   "metadata": {},
   "source": [
    "Try creating another version of this sbatch script. Modify it to make directories called dir1 through dir5. Then submit those jobs using the sbatch command as above."
   ]
  },
  {
   "cell_type": "code",
   "execution_count": null,
   "metadata": {},
   "outputs": [],
   "source": [
    "#create your new slurm script in this cell"
   ]
  },
  {
   "cell_type": "code",
   "execution_count": null,
   "metadata": {},
   "outputs": [],
   "source": [
    "#submit your jobs using this cell"
   ]
  },
  {
   "cell_type": "markdown",
   "metadata": {},
   "source": [
    "There are other methods in Python to read and write from files as well. For example at the website below. Try going through the exercise on this webpage now (we'll need to make a few modifications, which I will point out).\n",
    "\n",
    "https://www.digitalocean.com/community/tutorials/how-to-handle-plain-text-files-in-python-3"
   ]
  },
  {
   "cell_type": "markdown",
   "metadata": {},
   "source": [
    "## Learning Objectives 8, 9, 10"
   ]
  },
  {
   "cell_type": "markdown",
   "metadata": {},
   "source": [
    "<H3>Plotting with matplotlib.pyplot</H3>\n",
    "\n",
    "<H5>The following plotting examples come from https://matplotlib.org/3.1.0/tutorials/introductory/pyplot.html</H5>"
   ]
  },
  {
   "cell_type": "markdown",
   "metadata": {},
   "source": [
    "An introduction to the pyplot interface. Intro to pyplot ===============\n",
    "\n",
    "matplotlib.pyplot is a collection of command style functions that make matplotlib work like MATLAB. Each pyplot function makes some change to a figure: e.g., creates a figure, creates a plotting area in a figure, plots some lines in a plotting area, decorates the plot with labels, etc.\n",
    "\n",
    "In matplotlib.pyplot various states are preserved across function calls, so that it keeps track of things like the current figure and plotting area, and the plotting functions are directed to the current axes (please note that \"axes\" here and in most places in the documentation refers to the axes part of a figure and not the strict mathematical term for more than one axis)."
   ]
  },
  {
   "cell_type": "code",
   "execution_count": null,
   "metadata": {},
   "outputs": [],
   "source": [
    "plt.plot([1, 2, 3, 4])\n",
    "plt.ylabel('some numbers')\n",
    "plt.show()"
   ]
  },
  {
   "cell_type": "markdown",
   "metadata": {},
   "source": [
    "You may be wondering why the x-axis ranges from 0-3 and the y-axis from 1-4. If you provide a single list or array to the plot() command, matplotlib assumes it is a sequence of y values, and automatically generates the x values for you. Since python ranges start with 0, the default x vector has the same length as y but starts with 0. Hence the x data are [0,1,2,3].\n",
    "\n",
    "plot() is a versatile command, and will take an arbitrary number of arguments. For example, to plot x versus y, you can issue the command:"
   ]
  },
  {
   "cell_type": "code",
   "execution_count": null,
   "metadata": {},
   "outputs": [],
   "source": [
    "plt.plot([1, 2, 3, 4], [1, 4, 9, 16])"
   ]
  },
  {
   "cell_type": "markdown",
   "metadata": {},
   "source": [
    "<H3>Formatting the style of your plot</H3>\n",
    "For every x, y pair of arguments, there is an optional third argument which is the format string that indicates the color and line type of the plot. The letters and symbols of the format string are from MATLAB, and you concatenate a color string with a line style string. The default format string is 'b-', which is a solid blue line. For example, to plot the above with red circles, you would issue"
   ]
  },
  {
   "cell_type": "code",
   "execution_count": null,
   "metadata": {},
   "outputs": [],
   "source": [
    "plt.plot([1, 2, 3, 4], [1, 4, 9, 16], 'ro')\n",
    "plt.axis([0, 6, 0, 20])\n",
    "plt.show()"
   ]
  },
  {
   "cell_type": "markdown",
   "metadata": {},
   "source": [
    "See the plot() documentation for a complete list of line styles and format strings. The axis() command in the example above takes a list of [xmin, xmax, ymin, ymax] and specifies the viewport of the axes.\n",
    "\n",
    "If matplotlib were limited to working with lists, it would be fairly useless for numeric processing. Generally, you will use numpy arrays. In fact, all sequences are converted to numpy arrays internally. The example below illustrates a plotting several lines with different format styles in one command using arrays."
   ]
  },
  {
   "cell_type": "code",
   "execution_count": null,
   "metadata": {},
   "outputs": [],
   "source": [
    "import numpy as np\n",
    "\n",
    "# evenly sampled time at 200ms intervals\n",
    "t = np.arange(0., 5., 0.2)\n",
    "\n",
    "# red dashes, blue squares and green triangles\n",
    "plt.plot(t, t, 'r--', t, t**2, 'bs', t, t**3, 'g^')\n",
    "plt.show()"
   ]
  },
  {
   "cell_type": "markdown",
   "metadata": {},
   "source": [
    "<H3>Plotting with keyword strings</H3>\n",
    "\n",
    "There are some instances where you have data in a format that lets you access particular variables with strings. For example, with numpy.recarray or pandas.DataFrame.\n",
    "\n",
    "Matplotlib allows you provide such an object with the data keyword argument. If provided, then you may generate plots with the strings corresponding to these variables."
   ]
  },
  {
   "cell_type": "code",
   "execution_count": null,
   "metadata": {},
   "outputs": [],
   "source": [
    "data = {'a': np.arange(50),\n",
    "        'c': np.random.randint(0, 50, 50),\n",
    "        'd': np.random.randn(50)}\n",
    "data['b'] = data['a'] + 10 * np.random.randn(50)\n",
    "data['d'] = np.abs(data['d']) * 100\n",
    "\n",
    "plt.scatter('a', 'b', c='c', s='d', data=data)\n",
    "plt.xlabel('entry a')\n",
    "plt.ylabel('entry b')\n",
    "plt.show()"
   ]
  },
  {
   "cell_type": "markdown",
   "metadata": {},
   "source": [
    "<h3>Plotting with categorical variables</h3>\n",
    "\n",
    "It is also possible to create a plot using categorical variables. Matplotlib allows you to pass categorical variables directly to many plotting functions. For example:"
   ]
  },
  {
   "cell_type": "code",
   "execution_count": null,
   "metadata": {},
   "outputs": [],
   "source": [
    "names = ['group_a', 'group_b', 'group_c']\n",
    "values = [1, 10, 100]\n",
    "\n",
    "plt.figure(figsize=(9, 3))\n",
    "\n",
    "plt.subplot(131)\n",
    "plt.bar(names, values)\n",
    "plt.subplot(132)\n",
    "plt.scatter(names, values)\n",
    "plt.subplot(133)\n",
    "plt.plot(names, values)\n",
    "plt.suptitle('Categorical Plotting')\n",
    "plt.show()"
   ]
  },
  {
   "cell_type": "markdown",
   "metadata": {},
   "source": [
    "<h3>Working with multiple figures and axes</h3>\n",
    "\n",
    "MATLAB, and pyplot, have the concept of the current figure and the current axes. All plotting commands apply to the current axes. The function gca() returns the current axes (a matplotlib.axes.Axes instance), and gcf() returns the current figure (matplotlib.figure.Figure instance). Normally, you don't have to worry about this, because it is all taken care of behind the scenes. Below is a script to create two subplots."
   ]
  },
  {
   "cell_type": "code",
   "execution_count": null,
   "metadata": {},
   "outputs": [],
   "source": [
    "def f(t):\n",
    "    return np.exp(-t) * np.cos(2*np.pi*t)\n",
    "\n",
    "t1 = np.arange(0.0, 5.0, 0.1)\n",
    "t2 = np.arange(0.0, 5.0, 0.02)\n",
    "\n",
    "plt.figure()\n",
    "plt.subplot(211)\n",
    "plt.plot(t1, f(t1), 'bo', t2, f(t2), 'k')\n",
    "\n",
    "plt.subplot(212)\n",
    "plt.plot(t2, np.cos(2*np.pi*t2), 'r--')\n",
    "plt.show()"
   ]
  },
  {
   "cell_type": "code",
   "execution_count": null,
   "metadata": {},
   "outputs": [],
   "source": [
    "import matplotlib\n",
    "import matplotlib.pyplot as plt\n",
    "import numpy as np\n",
    "\n",
    "\n",
    "men_means, men_std = (20, 35, 30, 35, 27), (2, 3, 4, 1, 2)\n",
    "women_means, women_std = (25, 32, 34, 20, 25), (3, 5, 2, 3, 3)\n",
    "\n",
    "ind = np.arange(len(men_means))  # the x locations for the groups\n",
    "width = 0.35  # the width of the bars\n",
    "\n",
    "fig, ax = plt.subplots()\n",
    "rects1 = ax.bar(ind - width/2, men_means, width, yerr=men_std,\n",
    "                label='Men')\n",
    "rects2 = ax.bar(ind + width/2, women_means, width, yerr=women_std,\n",
    "                label='Women')\n",
    "\n",
    "# Add some text for labels, title and custom x-axis tick labels, etc.\n",
    "ax.set_ylabel('Scores')\n",
    "ax.set_title('Scores by group and gender')\n",
    "ax.set_xticks(ind)\n",
    "ax.set_xticklabels(('G1', 'G2', 'G3', 'G4', 'G5'))\n",
    "ax.legend()\n",
    "\n",
    "\n",
    "def autolabel(rects, xpos='center'):\n",
    "    \"\"\"\n",
    "    Attach a text label above each bar in *rects*, displaying its height.\n",
    "\n",
    "    *xpos* indicates which side to place the text w.r.t. the center of\n",
    "    the bar. It can be one of the following {'center', 'right', 'left'}.\n",
    "    \"\"\"\n",
    "\n",
    "    ha = {'center': 'center', 'right': 'left', 'left': 'right'}\n",
    "    offset = {'center': 0, 'right': 1, 'left': -1}\n",
    "\n",
    "    for rect in rects:\n",
    "        height = rect.get_height()\n",
    "        ax.annotate('{}'.format(height),\n",
    "                    xy=(rect.get_x() + rect.get_width() / 2, height),\n",
    "                    xytext=(offset[xpos]*3, 3),  # use 3 points offset\n",
    "                    textcoords=\"offset points\",  # in both directions\n",
    "                    ha=ha[xpos], va='bottom')\n",
    "\n",
    "\n",
    "autolabel(rects1, \"left\")\n",
    "autolabel(rects2, \"right\")\n",
    "\n",
    "fig.tight_layout()\n",
    "\n",
    "plt.show()"
   ]
  },
  {
   "cell_type": "code",
   "execution_count": null,
   "metadata": {},
   "outputs": [],
   "source": [
    "import numpy as np\n",
    "import matplotlib.pyplot as plt\n",
    "\n",
    "# example data\n",
    "x = np.arange(0.1, 4, 0.1)\n",
    "y = np.exp(-x)\n",
    "\n",
    "# example variable error bar values\n",
    "yerr = 0.1 + 0.1 * np.sqrt(x)\n",
    "\n",
    "\n",
    "# Now switch to a more OO interface to exercise more features.\n",
    "fig, axs = plt.subplots(nrows=1, ncols=2, sharex=True)\n",
    "ax = axs[0]\n",
    "ax.errorbar(x, y, yerr=yerr)\n",
    "ax.set_title('all errorbars')\n",
    "\n",
    "ax = axs[1]\n",
    "ax.errorbar(x, y, yerr=yerr, errorevery=5)\n",
    "ax.set_title('only every 5th errorbar')\n",
    "\n",
    "\n",
    "fig.suptitle('Errorbar subsampling for better appearance')\n",
    "\n",
    "#Here is how to save figures\n",
    "plt.savefig(\"graph1.png\")\n",
    "plt.savefig(\"graph2.png\")\n",
    "plt.savefig(\"graph3.png\",dpi=600)\n",
    "plt.savefig(\"graph4.png\",dpi=300)\n",
    "plt.show()\n"
   ]
  },
  {
   "cell_type": "markdown",
   "metadata": {},
   "source": [
    "Now try to create a plot like the one pictured just above, but using the data1 variable that we were working with earlier. Remember that the columns in that file corresponded to var1 var2 var2error, var3 var4 var4 error. Save the images to png files in your directory."
   ]
  },
  {
   "cell_type": "code",
   "execution_count": null,
   "metadata": {},
   "outputs": [],
   "source": []
  },
  {
   "cell_type": "markdown",
   "metadata": {},
   "source": [
    "There are a very large number of different types of plots that can be made using matplotlib. You can see a gallery of many different types of plots at this address:\n",
    "\n",
    "https://matplotlib.org/gallery/index.html\n",
    "\n",
    "The matplotlib.org website is a great resource for tutorials and examples for plotting in general.\n",
    "\n",
    "Go through the matplotlib website and choose three or four different graph types and try pasting the code into cells below to see if they work. Try changing various parameters to see how you can manipulate the graphs. I will ask everyone to share out some of your observations."
   ]
  },
  {
   "cell_type": "code",
   "execution_count": null,
   "metadata": {},
   "outputs": [],
   "source": []
  }
 ],
 "metadata": {
  "kernelspec": {
   "display_name": "Python 3",
   "language": "python",
   "name": "python3"
  },
  "language_info": {
   "codemirror_mode": {
    "name": "ipython",
    "version": 3
   },
   "file_extension": ".py",
   "mimetype": "text/x-python",
   "name": "python",
   "nbconvert_exporter": "python",
   "pygments_lexer": "ipython3",
   "version": "3.6.0"
  }
 },
 "nbformat": 4,
 "nbformat_minor": 2
}
